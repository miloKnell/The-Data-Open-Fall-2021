{
 "cells": [
  {
   "cell_type": "code",
   "execution_count": 6,
   "metadata": {},
   "outputs": [
    {
     "name": "stdout",
     "output_type": "stream",
     "text": [
      "[\"They're Being Called 'Walmart's Worst Nightmare.' And I *Really* Hope It Comes True.\"\n",
      " 'This Is What Sexism Against Men Sounds Like'\n",
      " 'Kim Jong Un Would Really Hate For You To Watch This Which Is Exactly Why You Should'\n",
      " ...\n",
      " \"These 4 People Take Turns Saying Things That Shouldn't Have To Be Said. They Should Be Obvious.\"\n",
      " 'The More And More These 4 People Talk, The More Pissed I Get. This Is On All Of Us.'\n",
      " \"The More And More These 4 People Talk, The More Pissed I Get. It's So Upsetting.\"]\n"
     ]
    }
   ],
   "source": [
    "import pandas as pd\n",
    "\n",
    "df = pd.read_csv('packages.csv')\n",
    "# get unique headlines from df\n",
    "headlines = df['headline'].unique()\n",
    "print(headlines)\n"
   ]
  }
 ],
 "metadata": {
  "interpreter": {
   "hash": "4df2cae93afc28d311b5810fffb069d7f6eade9db484904eab1b67287b846095"
  },
  "kernelspec": {
   "display_name": "Python 3.8.8 64-bit ('base': conda)",
   "name": "python3"
  },
  "language_info": {
   "codemirror_mode": {
    "name": "ipython",
    "version": 3
   },
   "file_extension": ".py",
   "mimetype": "text/x-python",
   "name": "python",
   "nbconvert_exporter": "python",
   "pygments_lexer": "ipython3",
   "version": "3.8.8"
  },
  "orig_nbformat": 4
 },
 "nbformat": 4,
 "nbformat_minor": 2
}
